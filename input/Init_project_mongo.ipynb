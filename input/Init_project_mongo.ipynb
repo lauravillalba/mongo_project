{
 "cells": [
  {
   "cell_type": "code",
   "execution_count": 3,
   "metadata": {},
   "outputs": [],
   "source": [
    "import requests\n",
    "import pandas as pd\n",
    "import numpy as np\n"
   ]
  },
  {
   "cell_type": "code",
   "execution_count": 4,
   "metadata": {},
   "outputs": [],
   "source": [
    "from pymongo import MongoClient\n",
    "client = MongoClient(\"mongodb://localhost/companies\")\n",
    "db = client.get_database()"
   ]
  },
  {
   "cell_type": "code",
   "execution_count": 6,
   "metadata": {},
   "outputs": [
    {
     "name": "stdout",
     "output_type": "stream",
     "text": [
      "{'standard': {'addresst': {}, 'city': 'New York', 'prov': 'US', 'countryname': 'United States of America', 'postal': {}, 'confidence': '0.90'}, 'longt': '-73.95860', 'alt': {}, 'elevation': {}, 'latt': '40.68908'}\n"
     ]
    },
    {
     "data": {
      "text/plain": [
       "{'type': 'Point', 'coordinates': [-73.9586, 40.68908]}"
      ]
     },
     "execution_count": 6,
     "metadata": {},
     "output_type": "execute_result"
    }
   ],
   "source": [
    "def geocode(address):\n",
    "    data = requests.get(f\"https://geocode.xyz/{address}?json=1\").json()\n",
    "    print(data)\n",
    "    return {\n",
    "        \"type\":\"Point\",\n",
    "        \"coordinates\":[float(data[\"longt\"]),float(data[\"latt\"])]\n",
    "    }\n",
    "\n",
    "ny = geocode(\"New York\")\n",
    "ny"
   ]
  },
  {
   "cell_type": "code",
   "execution_count": null,
   "metadata": {},
   "outputs": [],
   "source": [
    "def withGeoQuery(location,maxDistance=10000,minDistance=0,field=\"location\"):\n",
    "    return {\n",
    "       field: {\n",
    "         \"$near\": {\n",
    "           \"$geometry\": location if type(location)==dict else geocode(location),\n",
    "           \"$maxDistance\": maxDistance,\n",
    "           \"$minDistance\": minDistance\n",
    "         }\n",
    "       }\n",
    "    }"
   ]
  }
 ],
 "metadata": {
  "kernelspec": {
   "display_name": "Python 3",
   "language": "python",
   "name": "python3"
  },
  "language_info": {
   "codemirror_mode": {
    "name": "ipython",
    "version": 3
   },
   "file_extension": ".py",
   "mimetype": "text/x-python",
   "name": "python",
   "nbconvert_exporter": "python",
   "pygments_lexer": "ipython3",
   "version": "3.7.6"
  }
 },
 "nbformat": 4,
 "nbformat_minor": 2
}
